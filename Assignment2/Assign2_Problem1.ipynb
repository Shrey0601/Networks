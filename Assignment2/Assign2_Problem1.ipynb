{
 "cells": [
  {
   "cell_type": "code",
   "execution_count": 6,
   "metadata": {},
   "outputs": [],
   "source": [
    "import numpy as np\n",
    "import random"
   ]
  },
  {
   "cell_type": "code",
   "execution_count": 7,
   "metadata": {},
   "outputs": [],
   "source": [
    "def xor(a,b):\n",
    "    ans = []\n",
    "    for i in range(1, len(b)):\n",
    "        if a[i] == b[i]:\n",
    "            ans.append('0')\n",
    "        else:\n",
    "            ans.append('1')\n",
    "    ans = ''.join(ans)\n",
    "    return ans"
   ]
  },
  {
   "cell_type": "code",
   "execution_count": 8,
   "metadata": {},
   "outputs": [],
   "source": [
    "def CRC_Div(dividend, divisor):\n",
    "    n = len(divisor)\n",
    "    temp = dividend[0:n]\n",
    "    for i in range(n, len(dividend)):\n",
    "        if temp[0] == '1':\n",
    "            carry_bits = xor(divisor, temp)\n",
    "            temp = carry_bits + dividend[i]\n",
    "        else:\n",
    "            zeros = '0'*i\n",
    "            carry_bits = xor(zeros, temp)\n",
    "            temp = carry_bits + dividend[i]\n",
    "    \n",
    "    if temp[0] == '1':\n",
    "        carry_bits = xor(divisor, temp)\n",
    "        temp = carry_bits\n",
    "    else:\n",
    "        zeros = '0'*len(dividend)\n",
    "        carry_bits = xor(zeros, temp)\n",
    "        temp = carry_bits\n",
    "\n",
    "    frame_check_seq = temp\n",
    "    return frame_check_seq"
   ]
  },
  {
   "cell_type": "code",
   "execution_count": 9,
   "metadata": {},
   "outputs": [],
   "source": [
    "def encode_frame(data, pattern):\n",
    "    m = len(pattern)\n",
    "    k = len(data)\n",
    "    n = k + m - 1\n",
    "    data = str(data) + '0'*(m-1)\n",
    "    frame_check_seq = CRC_Div(data, pattern)\n",
    "    encoded_frame = bin(int(data,2) + int(frame_check_seq,2)).replace(\"0b\", \"\")\n",
    "    return encoded_frame\n"
   ]
  },
  {
   "cell_type": "code",
   "execution_count": 10,
   "metadata": {},
   "outputs": [
    {
     "name": "stdout",
     "output_type": "stream",
     "text": [
      "Test Cases:\n",
      "\n",
      "Test Case 1:\n",
      "Message to be transmitted:  1100111011\n",
      "Pattern used:  110101\n",
      "Data frame to be transmitted:  110011101110101\n",
      "Error frame:  000101110111111\n",
      "Data frame received:  110110011001010\n",
      "Data frame received is accepted\n",
      "\n",
      "Test Case 2:\n",
      "Message to be transmitted:  1010010011\n",
      "Pattern used:  110101\n",
      "Data frame to be transmitted:  101001001110101\n",
      "Error frame:  000111101111101\n",
      "Data frame received:  101110100001000\n",
      "Data frame received is rejected\n",
      "\n",
      "Test Case 3:\n",
      "Message to be transmitted:  1100101000\n",
      "Pattern used:  110101\n",
      "Data frame to be transmitted:  110010100000110\n",
      "Error frame:  001110011110111\n",
      "Data frame received:  111100111110001\n",
      "Data frame received is rejected\n",
      "\n",
      "Test Case 4:\n",
      "Message to be transmitted:  1011111011\n",
      "Pattern used:  110101\n",
      "Data frame to be transmitted:  101111101101010\n",
      "Error frame:  011001100000100\n",
      "Data frame received:  110110001101110\n",
      "Data frame received is rejected\n",
      "\n",
      "Test Case 5:\n",
      "Message to be transmitted:  1011100011\n",
      "Pattern used:  110101\n",
      "Data frame to be transmitted:  101110001100101\n",
      "Error frame:  010110101111011\n",
      "Data frame received:  111000100011110\n",
      "Data frame received is rejected\n"
     ]
    }
   ],
   "source": [
    "k = 10  # Size of the message \n",
    "\n",
    "pattern = [1,1,0,1,0,1]  # Generator polynomial of length n-k+1\n",
    "pattern = ''.join(str(i) for i in pattern)\n",
    "\n",
    "print(\"Test Cases:\")\n",
    "\n",
    "print(\"\")\n",
    "\n",
    "test = 1\n",
    "\n",
    "print(\"Test Case \" + str(test) + \":\")\n",
    "\n",
    "message = [1,1,0,0,1,1,1,0,1,1]  # Message to be transmitted\n",
    "message = ''.join(str(i) for i in message)\n",
    "print(\"Message to be transmitted: \", message)\n",
    "print(\"Pattern used: \", pattern)\n",
    "n = len(message) + len(pattern) - 1\n",
    "data = encode_frame(message, pattern)  # The message to be transmitted by the sender to the receiver\n",
    "print(\"Data frame to be transmitted: \", data)\n",
    "\n",
    "error = [0,0,0,1,0,1,1,1,0,1,1,1,1,1,1]\n",
    "error = ''.join(str(i) for i in error)\n",
    "print(\"Error frame: \", error)\n",
    "data = bin(int(data,2)^int(error,2)).replace(\"0b\", \"\")\n",
    "\n",
    "print(\"Data frame received: \", data)\n",
    "\n",
    "if CRC_Div(data,pattern) == '0'*(len(pattern)-1):  # Check if CRC is correct\n",
    "    print(\"Data frame received is accepted\")\n",
    "else:\n",
    "    print(\"Data frame received is rejected\")\n",
    "\n",
    "test += 1\n",
    "\n",
    "for i in range(4):\n",
    "    print(\"\")\n",
    "    print(\"Test Case \" + str(test) + \":\")\n",
    "\n",
    "    message = [random.randint(0,1) for i in range(k)]  # Message to be transmitted\n",
    "    message = ''.join(str(i) for i in message)\n",
    "    print(\"Message to be transmitted: \", message)\n",
    "    print(\"Pattern used: \", pattern)\n",
    "    n = len(message) + len(pattern) - 1\n",
    "    data = encode_frame(message, pattern)  # The message to be transmitted by the sender to the receiver\n",
    "    print(\"Data frame to be transmitted: \", data)\n",
    "\n",
    "    error =  [random.randint(0,1) for i in range(n)] # Error frame in transmission\n",
    "    error = ''.join(str(i) for i in error)\n",
    "    print(\"Error frame: \", error)\n",
    "    data = bin(int(data,2)^int(error,2)).replace(\"0b\", \"\")\n",
    "\n",
    "    print(\"Data frame received: \", data)\n",
    "\n",
    "    if CRC_Div(data,pattern) == '0'*(len(pattern)-1):  # Check if CRC is correct\n",
    "        print(\"Data frame received is accepted\")\n",
    "    else:\n",
    "        print(\"Data frame received is rejected\")\n",
    "\n",
    "    test += 1\n"
   ]
  },
  {
   "cell_type": "code",
   "execution_count": null,
   "metadata": {},
   "outputs": [],
   "source": []
  },
  {
   "cell_type": "code",
   "execution_count": null,
   "metadata": {},
   "outputs": [],
   "source": []
  }
 ],
 "metadata": {
  "kernelspec": {
   "display_name": "Python 3.8.10 64-bit",
   "language": "python",
   "name": "python3"
  },
  "language_info": {
   "codemirror_mode": {
    "name": "ipython",
    "version": 3
   },
   "file_extension": ".py",
   "mimetype": "text/x-python",
   "name": "python",
   "nbconvert_exporter": "python",
   "pygments_lexer": "ipython3",
   "version": "3.8.10"
  },
  "orig_nbformat": 4,
  "vscode": {
   "interpreter": {
    "hash": "916dbcbb3f70747c44a77c7bcd40155683ae19c65e1c03b4aa3499c5328201f1"
   }
  }
 },
 "nbformat": 4,
 "nbformat_minor": 2
}
